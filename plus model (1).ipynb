{
 "cells": [
  {
   "cell_type": "code",
   "execution_count": 11,
   "id": "6190ef69-42a5-464f-9943-f4d41965acbc",
   "metadata": {},
   "outputs": [
    {
     "name": "stdout",
     "output_type": "stream",
     "text": [
      "Using device: cpu\n",
      "Epoch [1/10], Loss: 6.4174, Accuracy: 12.50%\n",
      "Epoch [2/10], Loss: 5.5321, Accuracy: 60.00%\n",
      "Epoch [3/10], Loss: 4.6914, Accuracy: 66.67%\n",
      "Epoch [4/10], Loss: 4.2664, Accuracy: 63.33%\n",
      "Epoch [5/10], Loss: 3.5111, Accuracy: 73.33%\n",
      "Epoch [6/10], Loss: 3.4317, Accuracy: 75.83%\n",
      "Epoch [7/10], Loss: 2.6695, Accuracy: 80.83%\n",
      "Epoch [8/10], Loss: 2.3771, Accuracy: 82.50%\n",
      "Epoch [9/10], Loss: 2.0877, Accuracy: 85.83%\n",
      "Epoch [10/10], Loss: 1.7176, Accuracy: 93.33%\n"
     ]
    }
   ],
   "source": [
    "import torch\n",
    "import torch.nn as nn\n",
    "import torchvision.transforms as transforms\n",
    "from torchvision.models import resnet50, ResNet50_Weights\n",
    "from torch.optim import Adam\n",
    "from torch.utils.data import DataLoader\n",
    "from torchvision.datasets import ImageFolder\n",
    "from PIL import Image\n",
    "import os\n",
    "\n",
    "# Device configuration\n",
    "device = torch.device('cuda' if torch.cuda.is_available() else 'cpu')\n",
    "print(f\"Using device: {device}\")\n",
    "\n",
    "# Define number of classes and class labels\n",
    "num_classes = 5\n",
    "class_names = ['Mild', 'Moderate', 'No_DR', 'Proliferate_DR', 'Severe']\n",
    "\n",
    "# Image transformations\n",
    "transform = transforms.Compose([\n",
    "    transforms.Resize((224, 224)),\n",
    "    transforms.ToTensor(),\n",
    "    transforms.Normalize([0.485, 0.456, 0.406],\n",
    "                         [0.229, 0.224, 0.225])\n",
    "])\n",
    "\n",
    "# Dataset path\n",
    "data_path = r\"C:\\Users\\harsh\\OneDrive\\Desktop\\Retina\\sample 2\"\n",
    "\n",
    "# Load dataset\n",
    "dataset = ImageFolder(root=data_path, transform=transform)\n",
    "data_loader = DataLoader(dataset, batch_size=32, shuffle=True)\n",
    "\n",
    "# Load pretrained ResNet50 model\n",
    "weights = ResNet50_Weights.DEFAULT\n",
    "model = resnet50(weights=weights)\n",
    "\n",
    "# Freeze earlier layers\n",
    "for param in model.parameters():\n",
    "    param.requires_grad = False\n",
    "\n",
    "# Modify the classifier head\n",
    "model.fc = nn.Sequential(\n",
    "    nn.Linear(model.fc.in_features, 512),\n",
    "    nn.ReLU(),\n",
    "    nn.Dropout(0.3),\n",
    "    nn.Linear(512, num_classes)\n",
    ")\n",
    "\n",
    "model = model.to(device)\n",
    "\n",
    "# Loss and optimizer\n",
    "criterion = nn.CrossEntropyLoss()\n",
    "optimizer = Adam(model.fc.parameters(), lr=0.001)\n",
    "\n",
    "# Training loop\n",
    "num_epochs = 10\n",
    "\n",
    "for epoch in range(num_epochs):\n",
    "    model.train()\n",
    "    total_loss = 0\n",
    "    correct = 0\n",
    "    total = 0\n",
    "\n",
    "    for images, labels in data_loader:\n",
    "        images = images.to(device)\n",
    "        labels = labels.to(device)\n",
    "\n",
    "        # Forward pass\n",
    "        outputs = model(images)\n",
    "        loss = criterion(outputs, labels)\n",
    "\n",
    "        # Backward and optimize\n",
    "        optimizer.zero_grad()\n",
    "        loss.backward()\n",
    "        optimizer.step()\n",
    "\n",
    "        # Track loss and accuracy\n",
    "        total_loss += loss.item()\n",
    "        _, predicted = torch.max(outputs.data, 1)\n",
    "        total += labels.size(0)\n",
    "        correct += (predicted == labels).sum().item()\n",
    "\n",
    "    accuracy = 100 * correct / total\n",
    "    print(f\"Epoch [{epoch + 1}/{num_epochs}], Loss: {total_loss:.4f}, Accuracy: {accuracy:.2f}%\")\n"
   ]
  },
  {
   "cell_type": "code",
   "execution_count": 15,
   "id": "6389bba0-712d-4633-bd4b-ee04318f8f60",
   "metadata": {},
   "outputs": [
    {
     "name": "stdout",
     "output_type": "stream",
     "text": [
      "Model saved successfully at C:\\Users\\harsh\\OneDrive\\Desktop\\Retina\\resnet_model.pth\n"
     ]
    }
   ],
   "source": [
    "# Save the model after training\n",
    "model_save_path = r\"C:\\Users\\harsh\\OneDrive\\Desktop\\Retina\\resnet_model.pth\"\n",
    "torch.save(model.state_dict(), model_save_path)\n",
    "print(f\"Model saved successfully at {model_save_path}\")"
   ]
  },
  {
   "cell_type": "code",
   "execution_count": 17,
   "id": "c4ea2e7c-5316-4290-8f59-7fc3456a3831",
   "metadata": {},
   "outputs": [],
   "source": [
    "# Function to load the model for prediction\n",
    "def load_model():\n",
    "    # Load ResNet50 with the modified last layer\n",
    "    model = resnet50(weights=ResNet50_Weights.DEFAULT)\n",
    "    model.fc = nn.Sequential(\n",
    "        nn.Linear(model.fc.in_features, 512),\n",
    "        nn.ReLU(),\n",
    "        nn.Dropout(0.3),\n",
    "        nn.Linear(512, num_classes)\n",
    "    )\n",
    "    \n",
    "    # Load the saved model weights\n",
    "    model.load_state_dict(torch.load(model_save_path, map_location=device))\n",
    "    model = model.to(device)\n",
    "    model.eval()\n",
    "    return model\n",
    "\n",
    "# Load the model\n",
    "model = load_model()"
   ]
  },
  {
   "cell_type": "code",
   "execution_count": 19,
   "id": "d4695a2f-90f4-483e-9249-3c0962305b29",
   "metadata": {},
   "outputs": [],
   "source": [
    "# Function to predict the image\n",
    "def predict_image(img_path):\n",
    "    model.eval()\n",
    "    image = Image.open(img_path).convert('RGB')\n",
    "    image = transform(image).unsqueeze(0).to(device)\n",
    "\n",
    "    with torch.no_grad():\n",
    "        output = model(image)\n",
    "        _, predicted = torch.max(output, 1)\n",
    "        class_name = class_names[predicted.item()]\n",
    "\n",
    "    print(f\"Predicted Class: {class_name}\")"
   ]
  },
  {
   "cell_type": "code",
   "execution_count": 27,
   "id": "80e073b5-77c0-488a-af5e-94458f234727",
   "metadata": {},
   "outputs": [
    {
     "name": "stdout",
     "output_type": "stream",
     "text": [
      "Predicted Class: Mild\n"
     ]
    }
   ],
   "source": [
    "# Predict on a specific image\n",
    "folder_path = r\"C:\\Users\\harsh\\OneDrive\\Desktop\\Retina\\Predict\"\n",
    "image_name = \"2.jpeg\"  # Example image name\n",
    "image_path = os.path.join(folder_path, image_name)\n",
    "\n",
    "predict_image(image_path)"
   ]
  },
  {
   "cell_type": "code",
   "execution_count": null,
   "id": "82270480-340c-4c2d-8c29-d4ad57696686",
   "metadata": {},
   "outputs": [],
   "source": []
  }
 ],
 "metadata": {
  "kernelspec": {
   "display_name": "Python 3 (ipykernel)",
   "language": "python",
   "name": "python3"
  },
  "language_info": {
   "codemirror_mode": {
    "name": "ipython",
    "version": 3
   },
   "file_extension": ".py",
   "mimetype": "text/x-python",
   "name": "python",
   "nbconvert_exporter": "python",
   "pygments_lexer": "ipython3",
   "version": "3.12.7"
  }
 },
 "nbformat": 4,
 "nbformat_minor": 5
}
